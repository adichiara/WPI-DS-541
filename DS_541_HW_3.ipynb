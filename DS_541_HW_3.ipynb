{
  "nbformat": 4,
  "nbformat_minor": 0,
  "metadata": {
    "colab": {
      "name": "DS 541 - HW 3",
      "provenance": [],
      "collapsed_sections": [],
      "include_colab_link": true
    },
    "kernelspec": {
      "name": "python3",
      "display_name": "Python 3"
    }
  },
  "cells": [
    {
      "cell_type": "markdown",
      "metadata": {
        "id": "view-in-github",
        "colab_type": "text"
      },
      "source": [
        "<a href=\"https://colab.research.google.com/github/adichiara/WPI-DS-541/blob/main/DS_541_HW_3.ipynb\" target=\"_parent\"><img src=\"https://colab.research.google.com/assets/colab-badge.svg\" alt=\"Open In Colab\"/></a>"
      ]
    },
    {
      "cell_type": "code",
      "metadata": {
        "id": "N_bPxfmil09t"
      },
      "source": [
        "import numpy as np\n",
        "from numpy import eye as eye\n",
        "from numpy.linalg import inv as inv\n",
        "from numpy.linalg import solve as solve\n",
        "from numpy.linalg import eig as eig\n",
        "from numpy.linalg import matrix_power\n",
        " \n",
        "from numpy import random\n",
        "from numpy.random import randn"
      ],
      "execution_count": 3,
      "outputs": []
    },
    {
      "cell_type": "code",
      "metadata": {
        "id": "9CgPvDD5KKu9"
      },
      "source": [
        "import pandas as pd\n",
        "import matplotlib.pyplot as plt\n",
        "import seaborn as sns\n",
        "import datetime\n",
        " \n",
        "import requests\n",
        "import urllib"
      ],
      "execution_count": 4,
      "outputs": []
    },
    {
      "cell_type": "code",
      "metadata": {
        "id": "SVWjhXZX_y3V"
      },
      "source": [
        "# Load data\r\n",
        "\r\n",
        "def load_data():\r\n",
        "    urllib.request.urlretrieve('https://s3.amazonaws.com/jrwprojects/fashion_mnist_train_images.npy', 'fashion_mnist_train_images.npy')\r\n",
        "    urllib.request.urlretrieve('https://s3.amazonaws.com/jrwprojects/fashion_mnist_test_images.npy', 'fashion_mnist_test_images.npy')\r\n",
        "    urllib.request.urlretrieve('https://s3.amazonaws.com/jrwprojects/fashion_mnist_train_labels.npy', 'fashion_mnist_train_labels.npy')\r\n",
        "    urllib.request.urlretrieve('https://s3.amazonaws.com/jrwprojects/fashion_mnist_test_labels.npy', 'fashion_mnist_test_labels.npy')\r\n",
        "\r\n",
        "    X_tr = np.reshape(np.load('fashion_mnist_train_images.npy'), (-1, 28*28))\r\n",
        "    X_te = np.reshape(np.load('fashion_mnist_test_images.npy'), (-1, 28*28))\r\n",
        "    y_tr = np.load('fashion_mnist_train_labels.npy')\r\n",
        "    y_te = np.load('fashion_mnist_test_labels.npy')\r\n",
        "\r\n",
        "    return ([X_tr, X_te, y_tr, y_te])\r\n",
        "\r\n"
      ],
      "execution_count": 5,
      "outputs": []
    },
    {
      "cell_type": "code",
      "metadata": {
        "id": "vX5k-mOa0LbN"
      },
      "source": [
        "\r\n",
        "# preprocessing functions\r\n",
        "\r\n",
        "def one_hot_encode_y(y_tr_scalar, y_te_scalar, max_num):\r\n",
        "    y_tr = (np.eye(max_num)[y_tr_scalar]).astype(int)\r\n",
        "    y_te = (np.eye(max_num)[y_te_scalar]).astype(int)\r\n",
        "    return ([y_tr, y_te])\r\n",
        "\r\n",
        "\r\n",
        "def normalize_inputs(X, max_val):\r\n",
        "    X = X/max_val\r\n",
        "    return X\r\n"
      ],
      "execution_count": 6,
      "outputs": []
    },
    {
      "cell_type": "code",
      "metadata": {
        "id": "4E0bwkCB8O_z"
      },
      "source": [
        "\r\n",
        "# softmax regression functions\r\n",
        "\r\n",
        "def compute_Yhat(X, Y, W, b):\r\n",
        "    X = X.T   # orient X as design matrix (m x n) for consistency with formulas\r\n",
        "    # compute pre-activation scores\r\n",
        "    Z = X.T.dot(W) + b\r\n",
        "    # normalize Z\r\n",
        "    Z = np.exp(Z) \r\n",
        "    Yhat = Z / np.sum(Z, axis=1, keepdims=True)\r\n",
        "    return (Yhat)\r\n",
        "\r\n",
        "\r\n",
        "def update_weights(X, Y, Yhat, W, L2_alpha, learning_rate):\r\n",
        "    n = X.shape[0]   \r\n",
        "    X = X.T   # orient X as design matrix (m x n) for consistency with formulas\r\n",
        "    # compute gradient of loss function wrt W\r\n",
        "    grad_w =  -1/n * (X.dot(Y - Yhat))\r\n",
        "    # adjust weights\r\n",
        "    L2_grad = (L2_alpha * W)/n\r\n",
        "    W_new = W - learning_rate * (grad_w + L2_grad)\r\n",
        "    return (W_new)\r\n",
        "\r\n",
        "\r\n",
        "def update_bias(Y, Yhat, b, learning_rate):\r\n",
        "    n = Y.shape[0]   \r\n",
        "    # compute gradient of loss function wrt b\r\n",
        "    grad_b =  -1/n * np.sum((Yhat - Y), axis=0)\r\n",
        "    grad_b = np.atleast_2d(grad_b)\r\n",
        "    # adjust bias\r\n",
        "    b_new = b - learning_rate * grad_b\r\n",
        "    return (b_new)\r\n",
        "\r\n",
        "\r\n",
        "def crossentropy_loss(Y, Yhat, W, L2_alpha): \r\n",
        "    n = Y.shape[0]\r\n",
        "    L2_reg = L2_alpha/(2*n) * np.sum(W.T.dot(W))\r\n",
        "    loss = -1/n * np.sum(np.multiply(Y, np.log(Yhat))) + L2_reg\r\n",
        "    return (loss)\r\n",
        "\r\n",
        "\r\n",
        "def crossentropy_loss_unreg(Y, Yhat): \r\n",
        "    n = Y.shape[0]\r\n",
        "    loss = -1/n * np.sum(np.multiply(Y, np.log(Yhat)))\r\n",
        "    return (loss)\r\n",
        "\r\n",
        "\r\n",
        "def compute_accuracy(Y, Yhat): \r\n",
        "    correct_matches = np.argmax(Y, axis=1) == np.argmax(Yhat, axis=1)\r\n",
        "    accuracy = sum(correct_matches) / Y.shape[0] * 100\r\n",
        "    return (accuracy)\r\n"
      ],
      "execution_count": 7,
      "outputs": []
    },
    {
      "cell_type": "code",
      "metadata": {
        "id": "iIHcFdfLFE4A"
      },
      "source": [
        "\r\n",
        "# SGD utility functions\r\n",
        "\r\n",
        "def training_validation_splits(X, Y, train_pct):\r\n",
        "    split_num = int(np.round(X.shape[0] * train_pct,0))\r\n",
        "    all_idx = random.permutation(X.shape[0])\r\n",
        "    tr_idx, te_idx = all_idx[:split_num], all_idx[split_num:]\r\n",
        "    X_tr, X_val = X[tr_idx,:], X[te_idx,:]\r\n",
        "    Y_tr, Y_val = Y[tr_idx], Y[te_idx]\r\n",
        "    return ([X_tr, X_val, Y_tr, Y_val])\r\n",
        "\r\n",
        "\r\n",
        "def randomize_dataset_order(X, Y):\r\n",
        "    all_idx = random.permutation(X.shape[0])\r\n",
        "    return ([X[all_idx], Y[all_idx]])\r\n",
        "\r\n",
        "\r\n",
        "def output_live_results(loss, acc, lr, alpha, batch_size, num_epochs, best_params, secs_per_iter, current_iter, max_iterations):\r\n",
        "    # just some formatting code for showing results of each hyperparameter combo during grid search\r\n",
        "    \r\n",
        "    if (loss == best_params['loss']):\r\n",
        "      best_loss_label = \" * BEST LOSS *\"\r\n",
        "    else:\r\n",
        "      best_loss_label = \"\"\r\n",
        "\r\n",
        "    print(str(current_iter).zfill(len(str(max_iterations))), \"of\", max_iterations,\r\n",
        "        ' |  loss:', \"{:.3f}\".format(loss), \r\n",
        "        ' |  best_params_loss:', \"{:.3f}\".format(best_params['loss']), \r\n",
        "        ' |  accuracy %:', \"{:.1f}\".format(acc), \r\n",
        "        ' |  best_params_acc%:', \"{:.1f}\".format(best_params['accuracy']), \r\n",
        "        ' |  learn rate:', \"{:.5f}\".format(lr),\r\n",
        "        ' |  alpha:', \"{:.3f}\".format(alpha),\r\n",
        "        ' |  batch_size:', str(batch_size).zfill(3),\r\n",
        "        ' |  epochs:', str(num_epochs).zfill(3),\r\n",
        "        ' |  elapsed:', secs_per_iter,\r\n",
        "        ' | ', best_loss_label)\r\n",
        "\r\n"
      ],
      "execution_count": 8,
      "outputs": []
    },
    {
      "cell_type": "code",
      "metadata": {
        "id": "MbxVSSKUZsNX"
      },
      "source": [
        "\r\n",
        "# SGD main tuning function\r\n",
        "\r\n",
        "def tune_SGD(X_tr, Y_tr, X_te, Y_te, epoch_list, batch_size_list, L2_alpha_list, learning_rate_list):\r\n",
        "\r\n",
        "    # make train/val/test splits (80% train vs val)\r\n",
        "    X_tr, X_val, Y_tr, Y_val = training_validation_splits(X_tr, Y_tr, .8)\r\n",
        "    \r\n",
        "    # hyperparameter iterative grid search\r\n",
        "    max_iterations = (len(epoch_list) * \r\n",
        "                      len(batch_size_list) * \r\n",
        "                      len(L2_alpha_list) * \r\n",
        "                      len(learning_rate_list))\r\n",
        "    current_iter = 0\r\n",
        "    tuning_results_list = []  # for logging mse validation results of each hyperparameter combo\r\n",
        "\r\n",
        "\r\n",
        "    tt0 = datetime.datetime.now()\r\n",
        "    ttd = datetime.timedelta(seconds=(sum(epoch_list)*len(batch_size_list)*len(L2_alpha_list)*len(learning_rate_list))*.44)\r\n",
        "    print(\"Program start time:  \", tt0.hour-5,\":\", str(tt0.minute).zfill(2), sep=\"\")\r\n",
        "    print(\"Expected completion: \", (tt0+ttd).hour-5,\":\", str((tt0+ttd).minute).zfill(2), sep=\"\")\r\n",
        "    print(\"Estimated runtime:  \", ttd)\r\n",
        "\r\n",
        "    for learning_rate in learning_rate_list:\r\n",
        "      for L2_alpha in L2_alpha_list:\r\n",
        "        for batch_size in batch_size_list:\r\n",
        "          print('\\n')\r\n",
        "          for num_epochs in epoch_list:\r\n",
        "            # timestamp for iteration timings\r\n",
        "            t0 = datetime.datetime.now()\r\n",
        "                  \r\n",
        "            # generate initial randomized weights and zero bias\r\n",
        "            W = np.random.normal(0, .1, (X_tr.shape[1], 10))\r\n",
        "            b = np.zeros(Y_tr.shape[1])\r\n",
        "            b = np.atleast_2d(b)\r\n",
        "\r\n",
        "            for epoch in range(0, num_epochs):  \r\n",
        "              X_tr, Y_tr = randomize_dataset_order(X_tr, Y_tr)\r\n",
        " \r\n",
        "              et_list = []\r\n",
        "              et0= datetime.datetime.now()\r\n",
        "              for i in range(0, X_tr.shape[0], batch_size):   \r\n",
        "\r\n",
        "                # compute predicted probabilities\r\n",
        "                Yhat = compute_Yhat(X_tr[i:i+batch_size,:], Y_tr[i:i+batch_size], W, b) \r\n",
        "       \r\n",
        "                # compute gradient for each batch and update weights\r\n",
        "                W = update_weights(X_tr[i:i+batch_size,:], Y_tr[i:i+batch_size], \r\n",
        "                                   Yhat, W, \r\n",
        "                                   L2_alpha, learning_rate)\r\n",
        "                \r\n",
        "                b = update_bias(Y_tr[i:i+batch_size], \r\n",
        "                                Yhat, b, \r\n",
        "                                learning_rate)\r\n",
        "              et_list.append(datetime.datetime.now() - et0)\r\n",
        "\r\n",
        "            # timestamp for iteration timings\r\n",
        "            print(batch_size, np.mean(et_list))\r\n",
        "            t1 = datetime.datetime.now()\r\n",
        "            secs_per_iter = (t1-t0).seconds\r\n",
        "\r\n",
        "            # compute loss of trained model on validation set\r\n",
        "            Yhat = compute_Yhat(X_val, Y_val, W, b) \r\n",
        "\r\n",
        "            CEloss_val = crossentropy_loss(Y_val, Yhat, W, L2_alpha)   \r\n",
        "            val_accuracy = compute_accuracy(Y_val, Yhat)\r\n",
        "\r\n",
        "            # if the current loss results are the best so far, record these hyperparameters\r\n",
        "            if (current_iter>0):  \r\n",
        "              if (CEloss_val < best_params['loss']):\r\n",
        "                best_params = {'num_epochs': num_epochs,\r\n",
        "                              'batch_size': batch_size,\r\n",
        "                              'L2_alpha': L2_alpha,\r\n",
        "                              'learning_rate': learning_rate,\r\n",
        "                              'loss': CEloss_val,\r\n",
        "                              'accuracy': val_accuracy} \r\n",
        "            else:\r\n",
        "              best_params = {'num_epochs': num_epochs,\r\n",
        "                            'batch_size': batch_size,\r\n",
        "                            'L2_alpha': L2_alpha,\r\n",
        "                            'learning_rate': learning_rate,\r\n",
        "                            'loss': CEloss_val,\r\n",
        "                            'accuracy': val_accuracy}\r\n",
        "                        \r\n",
        "            # log tuning results for after analysis\r\n",
        "            tuning_results = {'num_epochs': num_epochs,\r\n",
        "                              'batch_size': batch_size,\r\n",
        "                              'L2_alpha': L2_alpha,\r\n",
        "                              'learning_rate': learning_rate,\r\n",
        "                              'loss': CEloss_val,\r\n",
        "                              'accuracy': val_accuracy,\r\n",
        "                              'secs_per_iter': secs_per_iter}  \r\n",
        "\r\n",
        "            tuning_results_list.append(tuning_results)\r\n",
        "            current_iter = current_iter + 1\r\n",
        "\r\n",
        "            # output current results of these hyperparameters on validation set \r\n",
        "            output_live_results(CEloss_val, val_accuracy, \r\n",
        "                                learning_rate, L2_alpha, batch_size, num_epochs, \r\n",
        "                                best_params, secs_per_iter, \r\n",
        "                                current_iter, max_iterations)\r\n",
        "\r\n",
        "    #completed testing all hyperparameters - output summary results\r\n",
        "    print('\\n Hyperparameters tested:', \r\n",
        "          '\\n   num_epochs:', epoch_list,\r\n",
        "          '\\n   batch_size:', batch_size_list,\r\n",
        "          '\\n   L2_alpha:', L2_alpha_list,\r\n",
        "          '\\n   learning_rate:', learning_rate_list)\r\n",
        "    \r\n",
        "    print('\\n best_params:', \r\n",
        "          '\\n   num_epochs:', best_params['num_epochs'],\r\n",
        "          '\\n   batch_size:', best_params['batch_size'],\r\n",
        "          '\\n   L2_alpha:', best_params['L2_alpha'],\r\n",
        "          '\\n   learning_rate:', best_params['learning_rate'],\r\n",
        "          '\\n   loss:', best_params['loss'],\r\n",
        "          '\\n   accuracy:', best_params['accuracy'])\r\n",
        "\r\n",
        "    # train model using best params\r\n",
        "\r\n",
        "    # generate initial randomized weights and zero bias\r\n",
        "    W = np.random.normal(0, .1, (X_tr.shape[1], 10))    \r\n",
        "    b = np.zeros(Y_tr.shape[1])\r\n",
        "    b = np.atleast_2d(b)\r\n",
        "\r\n",
        "    for epoch in range(0, best_params['num_epochs']):  \r\n",
        "      X_tr, Y_tr = randomize_dataset_order(X_tr, Y_tr)\r\n",
        "\r\n",
        "      for i in range(0, X_tr.shape[0], best_params['batch_size']):\r\n",
        "        # compute predicted probabilities\r\n",
        "        Yhat = compute_Yhat(X_tr[i:i+best_params['batch_size'],:], Y_tr[i:i+best_params['batch_size']], W, b) \r\n",
        "\r\n",
        "        # compute gradient for each batch and update weights\r\n",
        "        W = update_weights(X_tr[i:i+best_params['batch_size'],:], \r\n",
        "                           Y_tr[i:i+best_params['batch_size']], \r\n",
        "                           Yhat, W, \r\n",
        "                           best_params['L2_alpha'], best_params['learning_rate'])\r\n",
        "        \r\n",
        "        b = update_bias(Y_tr[i:i+best_params['batch_size']], \r\n",
        "                        Yhat, b,\r\n",
        "                        best_params['learning_rate'])\r\n",
        "    \r\n",
        "    # compute loss of trained model on test set\r\n",
        "    Yhat = compute_Yhat(X_te, Y_te, W, b)\r\n",
        "    CEloss_test = crossentropy_loss_unreg(Y_te, Yhat)  \r\n",
        "    test_accuracy = compute_accuracy(Y_te, Yhat)\r\n",
        "\r\n",
        "    print(\"\\n loss (test set):\", CEloss_test)\r\n",
        "    print(\" accuracy (test set):\", test_accuracy)\r\n",
        "\r\n",
        "    # return tuning results df\r\n",
        "    tuning_results_df = pd.DataFrame(tuning_results_list)\r\n",
        "\r\n",
        "    tt1 = datetime.datetime.now()\r\n",
        "    print(\"\\nTime of completion: \", tt1.hour-5,\":\", str(tt1.minute).zfill(2), sep=\"\")\r\n",
        "    print(  \"Total time to run: \", tt1-tt0)\r\n",
        "\r\n",
        "    return(tuning_results_df)\r\n",
        "\r\n"
      ],
      "execution_count": 22,
      "outputs": []
    },
    {
      "cell_type": "code",
      "metadata": {
        "id": "eCgS_KvNxF-f"
      },
      "source": [
        "\r\n",
        "# Barebones SGD, no tuning\r\n",
        "\r\n",
        "from sklearn.metrics import log_loss\r\n",
        "\r\n",
        "def bare_SGD(X_tr, Y_tr, X_te, Y_te, num_epochs, batch_size, L2_alpha, learning_rate, sd):\r\n",
        "\r\n",
        "    # make train/val/test splits (80% train vs val)\r\n",
        "    X_tr, X_val, Y_tr, Y_val = training_validation_splits(X_tr, Y_tr, .8)\r\n",
        "\r\n",
        "    loss_results = []\r\n",
        "\r\n",
        "    # generate initial randomized weights and zero bias\r\n",
        "    W = np.random.normal(0, sd, (X_tr.shape[1], 10))\r\n",
        "    b = np.zeros(Y_tr.shape[1])\r\n",
        "    b = np.atleast_2d(b)\r\n",
        "\r\n",
        "    for epoch in range(0, num_epochs): \r\n",
        "      X_tr, Y_tr = randomize_dataset_order(X_tr, Y_tr)\r\n",
        "\r\n",
        "      for i in range(0, X_tr.shape[0], batch_size):   \r\n",
        "\r\n",
        "        # compute predicted probabilities\r\n",
        "        Yhat = compute_Yhat(X_tr[i:i+batch_size,:], Y_tr[i:i+batch_size], W, b) \r\n",
        "\r\n",
        "        # compute gradient for each batch and update weights\r\n",
        "        W = update_weights(X_tr[i:i+batch_size,:], Y_tr[i:i+batch_size], \r\n",
        "                            Yhat, W, \r\n",
        "                            L2_alpha, learning_rate)\r\n",
        "        \r\n",
        "        b = update_bias(Y_tr[i:i+batch_size], \r\n",
        "                        Yhat, b, \r\n",
        "                        learning_rate)\r\n",
        "\r\n",
        "      # compute loss of trained model on validation set\r\n",
        "      Yhat = compute_Yhat(X_val, Y_val, W, b) \r\n",
        "      CEloss_val = crossentropy_loss(Y_val, Yhat, W, L2_alpha)  \r\n",
        "\r\n",
        "      loss_results.append({'epoch': epoch,\r\n",
        "                           'loss': CEloss_val})\r\n",
        "\r\n",
        "    # compute loss of trained model on validation set\r\n",
        "    Yhat = compute_Yhat(X_val, Y_val, W, b) \r\n",
        "\r\n",
        "    CEloss_val = crossentropy_loss(Y_val, Yhat, W, L2_alpha)   \r\n",
        "    logloss_val = log_loss(Y_val, Yhat)\r\n",
        "    val_accuracy = compute_accuracy(Y_val, Yhat)\r\n",
        "    \r\n",
        "    print(\"\\n loss (validation set):\", CEloss_val)\r\n",
        "    print(\" sklearn log_loss (validation set):\", logloss_val)\r\n",
        "    print(\" accuracy (validation set):\", val_accuracy)\r\n",
        "    \r\n",
        "    # compute loss of trained model on test set\r\n",
        "    Yhat = compute_Yhat(X_te, Y_te, W, b)\r\n",
        "\r\n",
        "    CEloss_test = crossentropy_loss_unreg(Y_te, Yhat)  \r\n",
        "    logloss_test = log_loss(Y_te, Yhat)\r\n",
        "    test_accuracy = compute_accuracy(Y_te, Yhat)\r\n",
        "\r\n",
        "    print(\"\\n loss (test set):\", CEloss_test)\r\n",
        "    print(\" sklearn log_loss (test set):\", logloss_test)\r\n",
        "    print(\" accuracy (test set):\", test_accuracy)\r\n",
        "\r\n",
        "    results_df = pd.DataFrame(loss_results)\r\n",
        "    return (results_df)\r\n"
      ],
      "execution_count": 10,
      "outputs": []
    },
    {
      "cell_type": "code",
      "metadata": {
        "id": "L68Sn6N41b9s"
      },
      "source": [
        "# load data\r\n",
        "X_tr, X_te, y_tr_scalar, y_te_scalar = load_data()\r\n",
        "\r\n",
        "# Y class one-hot encoding\r\n",
        "Y_tr, Y_te = one_hot_encode_y(y_tr_scalar, y_te_scalar, 10)\r\n",
        "\r\n",
        "# Normalize X pixel values\r\n",
        "X_tr = normalize_inputs(X_tr, 255)\r\n",
        "X_te = normalize_inputs(X_te, 255)\r\n"
      ],
      "execution_count": 11,
      "outputs": []
    },
    {
      "cell_type": "code",
      "metadata": {
        "id": "_UMgvFxpobur",
        "colab": {
          "base_uri": "https://localhost:8080/",
          "height": 539
        },
        "outputId": "5247895f-25f4-4274-e180-ce7bdb05bb0f"
      },
      "source": [
        "# softmax SGD with gridsearch\r\n",
        "\r\n",
        "results = tune_SGD(X_tr, Y_tr, X_te, Y_te,\r\n",
        "                   epoch_list = [20],\r\n",
        "                   batch_size_list = [256],\r\n",
        "                   L2_alpha_list = [.05],\r\n",
        "                   learning_rate_list = [.001])\r\n",
        "\r\n",
        "display(results)"
      ],
      "execution_count": 32,
      "outputs": [
        {
          "output_type": "stream",
          "text": [
            "Program start time:  -4:54\n",
            "Expected completion: -4:54\n",
            "Estimated runtime:   0:00:08.800000\n",
            "\n",
            "\n",
            "256 0:00:00.386884\n",
            "1 of 1  |  loss: 0.934  |  best_params_loss: 0.934  |  accuracy %: 69.5  |  best_params_acc%: 69.5  |  learn rate: 0.00100  |  alpha: 0.050  |  batch_size: 256  |  epochs: 020  |  elapsed: 8  |   * BEST LOSS *\n",
            "\n",
            " Hyperparameters tested: \n",
            "   num_epochs: [20] \n",
            "   batch_size: [256] \n",
            "   L2_alpha: [0.05] \n",
            "   learning_rate: [0.001]\n",
            "\n",
            " best_params: \n",
            "   num_epochs: 20 \n",
            "   batch_size: 256 \n",
            "   L2_alpha: 0.05 \n",
            "   learning_rate: 0.001 \n",
            "   loss: 0.934212393039162 \n",
            "   accuracy: 69.525\n",
            "\n",
            " loss (test set): 0.9790299176836487\n",
            " accuracy (test set): 66.85\n",
            "\n",
            "Time of completion: -4:54\n",
            "Total time to run:  0:00:16.967547\n"
          ],
          "name": "stdout"
        },
        {
          "output_type": "display_data",
          "data": {
            "text/html": [
              "<div>\n",
              "<style scoped>\n",
              "    .dataframe tbody tr th:only-of-type {\n",
              "        vertical-align: middle;\n",
              "    }\n",
              "\n",
              "    .dataframe tbody tr th {\n",
              "        vertical-align: top;\n",
              "    }\n",
              "\n",
              "    .dataframe thead th {\n",
              "        text-align: right;\n",
              "    }\n",
              "</style>\n",
              "<table border=\"1\" class=\"dataframe\">\n",
              "  <thead>\n",
              "    <tr style=\"text-align: right;\">\n",
              "      <th></th>\n",
              "      <th>num_epochs</th>\n",
              "      <th>batch_size</th>\n",
              "      <th>L2_alpha</th>\n",
              "      <th>learning_rate</th>\n",
              "      <th>loss</th>\n",
              "      <th>accuracy</th>\n",
              "      <th>secs_per_iter</th>\n",
              "    </tr>\n",
              "  </thead>\n",
              "  <tbody>\n",
              "    <tr>\n",
              "      <th>0</th>\n",
              "      <td>20</td>\n",
              "      <td>256</td>\n",
              "      <td>0.05</td>\n",
              "      <td>0.001</td>\n",
              "      <td>0.934212</td>\n",
              "      <td>69.525</td>\n",
              "      <td>8</td>\n",
              "    </tr>\n",
              "  </tbody>\n",
              "</table>\n",
              "</div>"
            ],
            "text/plain": [
              "   num_epochs  batch_size  L2_alpha  ...      loss  accuracy  secs_per_iter\n",
              "0          20         256      0.05  ...  0.934212    69.525              8\n",
              "\n",
              "[1 rows x 7 columns]"
            ]
          },
          "metadata": {
            "tags": []
          }
        }
      ]
    },
    {
      "cell_type": "code",
      "metadata": {
        "id": "fb9xqUTwrc-T"
      },
      "source": [
        "\r\n",
        "# results = tune_SGD(X_tr, Y_tr, X_te, Y_te,\r\n",
        "#                    epoch_list = [200],\r\n",
        "#                    batch_size_list = [128, 256],\r\n",
        "#                    L2_alpha_list = [.05, .1],\r\n",
        "#                    learning_rate_list = [.001, .05])\r\n",
        "\r\n",
        "results = tune_SGD(X_tr, Y_tr, X_te, Y_te,\r\n",
        "                   epoch_list = [100],\r\n",
        "                   batch_size_list = [128, 256, 512],\r\n",
        "                   L2_alpha_list = [.05],\r\n",
        "                   learning_rate_list = [.005])\r\n",
        "display(results)"
      ],
      "execution_count": null,
      "outputs": []
    },
    {
      "cell_type": "code",
      "metadata": {
        "colab": {
          "base_uri": "https://localhost:8080/",
          "height": 415
        },
        "id": "hqu9ldSryzwW",
        "outputId": "55be41d8-8b46-4b69-f15d-871571d305fe"
      },
      "source": [
        "# no tuning\r\n",
        "\r\n",
        "bare_results = bare_SGD(X_tr, Y_tr, X_te, Y_te, \r\n",
        "               num_epochs = 300, \r\n",
        "                batch_size=128, \r\n",
        "                L2_alpha=.01,\r\n",
        "                learning_rate=.001, \r\n",
        "                sd=.1)\r\n",
        "\r\n",
        "sns.scatterplot(data=bare_results, x='epoch', y='loss')\r\n",
        "plt.show()\r\n"
      ],
      "execution_count": 144,
      "outputs": [
        {
          "output_type": "stream",
          "text": [
            "\n",
            " loss (validation set): 0.5774910986807197\n",
            " sklearn log_loss (validation set): 0.5774586489949091\n",
            " accuracy (validation set): 79.98333333333333\n",
            "\n",
            " loss (test set): 0.5973384865375564\n",
            " sklearn log_loss (test set): 0.5973384865375564\n",
            " accuracy (test set): 79.51\n"
          ],
          "name": "stdout"
        },
        {
          "output_type": "display_data",
          "data": {
            "image/png": "[encoded data removed]",
            "text/plain": [
              "<Figure size 432x288 with 1 Axes>"
            ]
          },
          "metadata": {
            "tags": [],
            "needs_background": "light"
          }
        }
      ]
    },
    {
      "cell_type": "code",
      "metadata": {
        "colab": {
          "base_uri": "https://localhost:8080/"
        },
        "id": "4kgQL_Ol-Bxs",
        "outputId": "205e2080-a004-4bf8-e0cf-e8a43ec48698"
      },
      "source": [
        "\r\n",
        "\r\n",
        "\r\n",
        "\r\n",
        "\r\n",
        " "
      ],
      "execution_count": 123,
      "outputs": [
        {
          "output_type": "stream",
          "text": [
            "15:01\n"
          ],
          "name": "stdout"
        }
      ]
    },
    {
      "cell_type": "code",
      "metadata": {
        "id": "ez32ySOK67L0"
      },
      "source": [
        "\r\n",
        "# debug copies of functions\r\n",
        "\r\n",
        "def debug_compute_Yhat(X, Y, W, b):\r\n",
        "    X = X.T   # orient X as design matrix (m x n) for consistency with formulas\r\n",
        "    # compute pre-activation scores\r\n",
        "    Z = X.T.dot(W) + b\r\n",
        "    # normalize Z\r\n",
        "    Z = np.exp(Z) \r\n",
        "    Yhat = Z / np.sum(Z, axis=1, keepdims=True)\r\n",
        "    return ([Yhat, X])\r\n",
        "\r\n",
        "\r\n",
        "def debug_update_weights(X, Y, Yhat, W, L2_alpha, learning_rate):\r\n",
        "    n = X.shape[0]   \r\n",
        "    X = X.T   # orient X as design matrix (m x n) for consistency with formulas\r\n",
        "    # compute gradient of loss function wrt W\r\n",
        "    grad_w =  -1/n * (X.dot(Y - Yhat))\r\n",
        "    # adjust weights\r\n",
        "    L2_grad = (L2_alpha * W)/n\r\n",
        "    # L2_grad = 0\r\n",
        "    # W_new = W - grad_w\r\n",
        "    W_new = W - learning_rate * (grad_w + L2_grad)\r\n",
        "    return ([W_new, grad_w])\r\n",
        "\r\n",
        "\r\n",
        "def debug_update_bias(Y, Yhat, b, learning_rate):\r\n",
        "    n = Y.shape[0]   \r\n",
        "    # compute gradient of loss function wrt b\r\n",
        "    grad_b =  -1/n * np.sum((Yhat - Y), axis=0)\r\n",
        "    grad_b = np.atleast_2d(grad_b)\r\n",
        "    # adjust bias\r\n",
        "    b_new = b - learning_rate * grad_b\r\n",
        "    return ([b_new, grad_b])\r\n",
        "\r\n",
        "\r\n",
        "def debug_crossentropy_loss(Y, Yhat, W, L2_alpha): \r\n",
        "    n = Y.shape[0]\r\n",
        "    L2_reg = L2_alpha/(2*n) * np.sum(W.T.dot(W))\r\n",
        "    loss = -1/n * np.sum(np.multiply(Y, np.log(Yhat))) + L2_reg\r\n",
        "    return (loss)\r\n",
        "\r\n",
        "\r\n",
        "def debug_crossentropy_loss_unreg(Y, Yhat): \r\n",
        "    n = Y.shape[0]\r\n",
        "    loss = -1/n * np.sum(np.multiply(Y, np.log(Yhat)))\r\n",
        "    return (loss)\r\n",
        "\r\n",
        "\r\n",
        "def debug_compute_accuracy(Y, Yhat): \r\n",
        "    correct_matches = np.argmax(Y, axis=1) == np.argmax(Yhat, axis=1)\r\n",
        "    accuracy = sum(correct_matches) / Y.shape[0] * 100\r\n",
        "    return (accuracy)\r\n"
      ],
      "execution_count": null,
      "outputs": []
    },
    {
      "cell_type": "code",
      "metadata": {
        "id": "RFnmMEPf-Dtk"
      },
      "source": [
        ""
      ],
      "execution_count": null,
      "outputs": []
    },
    {
      "cell_type": "code",
      "metadata": {
        "id": "8vvnt6aV4HT9"
      },
      "source": [
        "# debugging\r\n",
        "\r\n",
        "import cv2\r\n",
        "\r\n",
        "X = X_tr[0:10000]\r\n",
        "Y = Y_tr[0:10000]\r\n",
        "\r\n",
        "img = []\r\n",
        "fig, axs = plt.subplots(2, 5)\r\n",
        "for r in range(1,3):\r\n",
        "  for c in range(1,6):\r\n",
        "    idx = r*c-1\r\n",
        "    image = np.reshape(X[idx], (28, 28))\r\n",
        "    img.append(image)\r\n",
        "    axs[r-1,c-1].imshow(img[idx], cmap='gray')\r\n",
        "plt.show()\r\n",
        "\r\n",
        "learning_rate = .01\r\n",
        "alpha = .05\r\n",
        "\r\n",
        "# generate initial randomized weights and zero bias\r\n",
        "W = np.random.normal(0, .1, (X.shape[1], 10))\r\n",
        "b = np.zeros(Y.shape[1])\r\n",
        "b = np.atleast_2d(b)\r\n",
        "\r\n",
        "\r\n",
        "for i in range(0, 10):\r\n",
        "\r\n",
        "  if (i % 50 == 0):\r\n",
        "    img = []\r\n",
        "    fig, axs = plt.subplots(2, 5)\r\n",
        "    for r in range(1,3):\r\n",
        "      for c in range(1,6):\r\n",
        "        idx = r*c-1\r\n",
        "        image = np.reshape(W[:,idx], (28, 28))\r\n",
        "        img.append(image)\r\n",
        "        axs[r-1,c-1].imshow(img[idx], cmap='gray')\r\n",
        "    plt.show()\r\n",
        "\r\n",
        "  Yhat, Z = debug_compute_Yhat(X, Y, W, b)\r\n",
        "  W, grad_w = debug_update_weights(X, Y, Yhat, W, alpha, learning_rate)\r\n",
        "  b, grad_b = debug_update_bias(Y, Yhat, b, learning_rate)\r\n",
        "\r\n",
        "  # print(\"i:\", i)\r\n",
        "  # # print(\"max X:\", np.max(X))\r\n",
        "  # print(\"Max W:\", np.max(W), \" Min W:\", np.min(W), \" Mean W:\", np.mean(W))\r\n",
        "\r\n",
        "  # print(\"Max grad_w:\", np.max(grad_w), \" Min grad_w:\", np.min(grad_w), \" mean grad_w:\", np.mean(grad_w))\r\n",
        "  # print(\"mean grad_w:\", np.mean(np.mean(grad_w, axis=1)))\r\n",
        "\r\n",
        "  # print(\"Max b:\", np.max(b), \" Min b:\", np.min(b))\r\n",
        "  # print(\"max grad_b:\", np.max(grad_b, axis=1))\r\n",
        "\r\n",
        "  # # # print(\"Sum Yhat:\", np.sum(Yhat, axis=1))\r\n",
        "  # # print(\"Mean Y - Yhat:\", np.mean(np.mean(Y-Yhat, axis=1)))\r\n",
        "\r\n",
        "\r\n",
        "  # # # print(\"Max Z:\", np.max(Z), \" Min Z:\", np.min(Z))\r\n",
        "  # # # print(\"Max Z without b:\", np.max(Z_nobias), \" Min Z:\", np.min(Z_nobias))\r\n",
        "\r\n",
        "  # print(\"CEloss:\", debug_crossentropy_loss(Y, Yhat, W, alpha))\r\n",
        "  if (i % 50 == 0):\r\n",
        "    print(i, \" - Accuracy:\", debug_compute_accuracy(Y, Yhat))\r\n",
        "\r\n",
        "\r\n",
        "\r\n"
      ],
      "execution_count": null,
      "outputs": []
    },
    {
      "cell_type": "code",
      "metadata": {
        "id": "-Err3VrNAZ6T",
        "colab": {
          "base_uri": "https://localhost:8080/",
          "height": 1000
        },
        "outputId": "01a636b4-1690-42a8-e29a-ae125cff4417"
      },
      "source": [
        "\r\n",
        "# plots to display tuning results for the hyperparameters tested \r\n",
        "\r\n",
        "\r\n",
        "sns.boxplot(data=results, x='num_epochs', y='loss')\r\n",
        "# plt.yscale('log')\r\n",
        "plt.show()\r\n",
        "\r\n",
        "sns.boxplot(data=results, x='batch_size', y='loss')\r\n",
        "# plt.yscale('log')\r\n",
        "plt.show()\r\n",
        "\r\n",
        "sns.boxplot(data=results, x='learning_rate', y='loss')\r\n",
        "# plt.yscale('log')\r\n",
        "plt.show()\r\n",
        "\r\n",
        "sns.boxplot(data=results, x='L2_alpha', y='loss')\r\n",
        "plt.yscale('log')\r\n",
        "plt.show()\r\n",
        "\r\n",
        "g = sns.catplot(x=\"num_epochs\", y=\"loss\",\r\n",
        "                row=\"batch_size\", \r\n",
        "                col='learning_rate',\r\n",
        "                hue=\"L2_alpha\", \r\n",
        "                data=results, kind='strip',\r\n",
        "                height=3)\r\n",
        "plt.yscale('log')\r\n",
        "plt.show()\r\n"
      ],
      "execution_count": 54,
      "outputs": [
        {
          "output_type": "display_data",
          "data": {
            "image/png": "[encoded data removed]",
            "text/plain": [
              "<Figure size 432x288 with 1 Axes>"
            ]
          },
          "metadata": {
            "tags": [],
            "needs_background": "light"
          }
        },
        {
          "output_type": "display_data",
          "data": {
            "image/png": "[encoded data removed]",
            "text/plain": [
              "<Figure size 432x288 with 1 Axes>"
            ]
          },
          "metadata": {
            "tags": [],
            "needs_background": "light"
          }
        },
        {
          "output_type": "display_data",
          "data": {
            "image/png": "[encoded data removed]",
            "text/plain": [
              "<Figure size 432x288 with 1 Axes>"
            ]
          },
          "metadata": {
            "tags": [],
            "needs_background": "light"
          }
        },
        {
          "output_type": "display_data",
          "data": {
            "image/png": "[encoded data removed]",
            "text/plain": [
              "<Figure size 432x288 with 1 Axes>"
            ]
          },
          "metadata": {
            "tags": [],
            "needs_background": "light"
          }
        },
        {
          "output_type": "display_data",
          "data": {
            "image/png": "[encoded data removed]",
            "text/plain": [
              "<Figure size 706.125x864 with 12 Axes>"
            ]
          },
          "metadata": {
            "tags": [],
            "needs_background": "light"
          }
        }
      ]
    }
  ]
}